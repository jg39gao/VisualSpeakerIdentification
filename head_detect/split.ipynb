{
 "cells": [
  {
   "cell_type": "code",
   "execution_count": 1,
   "metadata": {},
   "outputs": [],
   "source": [
    "import os      \n",
    "import subprocess\n",
    "\n",
    "\n",
    "class VideotoImg:\n",
    "\n",
    "    def __init__(self):\n",
    "        \n",
    "        pass\n",
    "        \n",
    "    def VoI(self, inputpath, outputpath):\n",
    "        \n",
    "        filenames = os.listdir(inputpath)\n",
    "        \n",
    "        filelist = []\n",
    "        for name in filenames:\n",
    "            if (name.endswith('.wmv') or name.endswith('.mp4')):\n",
    "                filelist.append(inputpath + name)\n",
    "                \n",
    "        for clipname in filelist:\n",
    "            command = \"ffmpeg -i \" + clipname + \" -r 24/1 \" + outputpath + clipname[-7:-4] + \"_%03d.jpg\"\n",
    "            subprocess.call(command, shell=True)\n",
    "        \n",
    "        \n",
    "    \n",
    "    "
   ]
  },
  {
   "cell_type": "code",
   "execution_count": 2,
   "metadata": {},
   "outputs": [],
   "source": [
    "vi = VideotoImg()\n",
    "inputpath = \"./clip/\"\n",
    "outputpath = \"./clip/frames/\"\n",
    "vi.VoI(inputpath, outputpath)"
   ]
  }
 ],
 "metadata": {
  "kernelspec": {
   "display_name": "Python 3",
   "language": "python",
   "name": "python3"
  },
  "language_info": {
   "codemirror_mode": {
    "name": "ipython",
    "version": 3
   },
   "file_extension": ".py",
   "mimetype": "text/x-python",
   "name": "python",
   "nbconvert_exporter": "python",
   "pygments_lexer": "ipython3",
   "version": "3.7.4"
  }
 },
 "nbformat": 4,
 "nbformat_minor": 2
}

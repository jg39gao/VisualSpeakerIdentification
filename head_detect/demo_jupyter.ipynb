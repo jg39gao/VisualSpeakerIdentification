{
 "cells": [
  {
   "cell_type": "code",
   "execution_count": 1,
   "metadata": {},
   "outputs": [
    {
     "name": "stderr",
     "output_type": "stream",
     "text": [
      "Using TensorFlow backend.\n"
     ]
    }
   ],
   "source": [
    "from predict import HeadDetector"
   ]
  },
  {
   "cell_type": "code",
   "execution_count": 2,
   "metadata": {
    "scrolled": true
   },
   "outputs": [
    {
     "name": "stdout",
     "output_type": "stream",
     "text": [
      "(13, 13)\n",
      "Model: \"model_2\"\n",
      "__________________________________________________________________________________________________\n",
      "Layer (type)                    Output Shape         Param #     Connected to                     \n",
      "==================================================================================================\n",
      "input_1 (InputLayer)            (None, 416, 416, 3)  0                                            \n",
      "__________________________________________________________________________________________________\n",
      "model_1 (Model)                 (None, 13, 13, 1024) 50547936    input_1[0][0]                    \n",
      "__________________________________________________________________________________________________\n",
      "DetectionLayer (Conv2D)         (None, 13, 13, 30)   30750       model_1[1][0]                    \n",
      "__________________________________________________________________________________________________\n",
      "reshape_1 (Reshape)             (None, 13, 13, 5, 6) 0           DetectionLayer[0][0]             \n",
      "__________________________________________________________________________________________________\n",
      "input_2 (InputLayer)            (None, 1, 1, 1, 10,  0                                            \n",
      "__________________________________________________________________________________________________\n",
      "lambda_2 (Lambda)               (None, 13, 13, 5, 6) 0           reshape_1[0][0]                  \n",
      "                                                                 input_2[0][0]                    \n",
      "==================================================================================================\n",
      "Total params: 50,578,686\n",
      "Trainable params: 50,558,014\n",
      "Non-trainable params: 20,672\n",
      "__________________________________________________________________________________________________\n"
     ]
    }
   ],
   "source": [
    "hd = HeadDetector()\n",
    "inputpath = \"./avengers_img/\"\n",
    "outputpath = \"./avengers_img/output/\"\n",
    "listOfAnnotatedArrays = hd.detect_head(inputpath, exportImg=True, outputpath = outputpath)\n",
    "#listOfArrays = hd.detect_head(inputpath)"
   ]
  },
  {
   "cell_type": "code",
   "execution_count": 3,
   "metadata": {},
   "outputs": [
    {
     "name": "stdout",
     "output_type": "stream",
     "text": [
      "[array([[112,   0,  49,  38],\n",
      "       [ 41,  41,  62,  70],\n",
      "       [105,  44,  72,  78],\n",
      "       [194,  80,  62,  72],\n",
      "       [309,  78,  60,  67],\n",
      "       [351, 114,  66,  82],\n",
      "       [452, 133,  78, 100],\n",
      "       [559, 164,  38,  45],\n",
      "       [615, 151,  33,  38],\n",
      "       [662, 156,  36,  48],\n",
      "       [ 50, 147,  88, 119],\n",
      "       [121, 146,  93, 127],\n",
      "       [234, 157,  82, 106],\n",
      "       [327, 258,  82, 105],\n",
      "       [562, 229, 105, 139]]), array([[ 41,  42,  62,  69],\n",
      "       [105,  45,  73,  77],\n",
      "       [194,  81,  64,  71],\n",
      "       [309,  79,  60,  66],\n",
      "       [350, 115,  66,  82],\n",
      "       [451, 134,  78, 100],\n",
      "       [560, 165,  37,  44],\n",
      "       [614, 152,  32,  37],\n",
      "       [663, 157,  35,  47],\n",
      "       [ 51, 148,  87, 118],\n",
      "       [121, 146,  92, 127],\n",
      "       [234, 158,  81, 106],\n",
      "       [326, 258,  82, 107],\n",
      "       [562, 229, 105, 140]])]\n"
     ]
    }
   ],
   "source": [
    "print(listOfAnnotatedArrays)"
   ]
  }
 ],
 "metadata": {
  "kernelspec": {
   "display_name": "Python 3",
   "language": "python",
   "name": "python3"
  },
  "language_info": {
   "codemirror_mode": {
    "name": "ipython",
    "version": 3
   },
   "file_extension": ".py",
   "mimetype": "text/x-python",
   "name": "python",
   "nbconvert_exporter": "python",
   "pygments_lexer": "ipython3",
   "version": "3.7.4"
  }
 },
 "nbformat": 4,
 "nbformat_minor": 2
}

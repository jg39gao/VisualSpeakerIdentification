{
 "cells": [
  {
   "cell_type": "code",
   "execution_count": 7,
   "metadata": {},
   "outputs": [],
   "source": [
    "import os\n",
    "import sys\n",
    "sys.path.append(os.path.abspath('../head_detect'))\n",
    "sys.path.append(os.path.abspath('../code'))\n",
    "sys.path.append(os.path.abspath('../tools'))\n",
    "\n",
    "import numpy as np\n",
    "from frameROI import FrameROI as  fr\n",
    "from vgg_face import VGGface \n",
    "from face_detector1 import FaceDetector \n",
    "from facedetector_evaluation import videoDetectorEvaluation , Video2Frame\n",
    "\n",
    "from predict import HeadDetector \n",
    "\n",
    "rawimg= '../data/test2.jpg'#videoframe/5695231002474224804_veg300_20.jpg'\n",
    "saveto= '../data/model_evaluation2'\n",
    "\n"
   ]
  },
  {
   "cell_type": "code",
   "execution_count": 8,
   "metadata": {},
   "outputs": [
    {
     "data": {
      "text/plain": [
       "['/Users/gaojiejun/Sheffield/_06_Industrial_teamProject(COM6911)/Code',\n",
       " '/Users/gaojiejun/anaconda3/lib/python37.zip',\n",
       " '/Users/gaojiejun/anaconda3/lib/python3.7',\n",
       " '/Users/gaojiejun/anaconda3/lib/python3.7/lib-dynload',\n",
       " '',\n",
       " '/Users/gaojiejun/.local/lib/python3.7/site-packages',\n",
       " '/Users/gaojiejun/anaconda3/lib/python3.7/site-packages',\n",
       " '/Users/gaojiejun/anaconda3/lib/python3.7/site-packages/aeosa',\n",
       " '/Users/gaojiejun/anaconda3/lib/python3.7/site-packages/IMDbPY-6.8-py3.7.egg',\n",
       " '/Users/gaojiejun/.local/lib/python3.7/site-packages/IPython/extensions',\n",
       " '/Users/gaojiejun/.ipython',\n",
       " '/Users/gaojiejun/Sheffield/_06_Industrial_teamProject(COM6911)/head_detect',\n",
       " '/Users/gaojiejun/Sheffield/_06_Industrial_teamProject(COM6911)/code',\n",
       " '/Users/gaojiejun/Sheffield/_06_Industrial_teamProject(COM6911)/tools',\n",
       " '/Users/gaojiejun/Sheffield/_06_Industrial_teamProject(COM6911)/head_detect',\n",
       " '/Users/gaojiejun/Sheffield/_06_Industrial_teamProject(COM6911)/code',\n",
       " '/Users/gaojiejun/Sheffield/_06_Industrial_teamProject(COM6911)/tools']"
      ]
     },
     "execution_count": 8,
     "metadata": {},
     "output_type": "execute_result"
    }
   ],
   "source": [
    "sys.path"
   ]
  },
  {
   "cell_type": "code",
   "execution_count": 9,
   "metadata": {},
   "outputs": [],
   "source": [
    "# print(os.getcwd())\n",
    "# cd ../head_detect/\n",
    "# print(os.getcwd())\n"
   ]
  },
  {
   "cell_type": "code",
   "execution_count": 10,
   "metadata": {},
   "outputs": [],
   "source": [
    "# hd = HeadDetector()\n",
    "\n",
    "# hd.detect_head(rawimg, exportImg=False, outputpath = \"./output/\")"
   ]
  },
  {
   "cell_type": "code",
   "execution_count": 13,
   "metadata": {},
   "outputs": [
    {
     "name": "stdout",
     "output_type": "stream",
     "text": [
      "[[131 172  78  97]\n",
      " [457 147  62  93]\n",
      " [ 64 175  66  81]\n",
      " [356 136  48  64]\n",
      " [585 251  76 117]\n",
      " [244 179  64  86]\n",
      " [316  90  43  51]\n",
      " [114  55  57  63]\n",
      " [346 272  56  94]\n",
      " [ 52  57  46  53]\n",
      " [201 100  48  52]\n",
      " [568 171  27  35]\n",
      " [523 192  27  31]]\n",
      "[0. 0. 0. 0. 0. 0. 0. 0. 0. 0. 0. 0. 0.]\n"
     ]
    }
   ],
   "source": [
    "\n",
    "#model= VGGface.detect_roi_fromRawImg#, \n",
    "model= FaceDetector.detect_cv2dnn_fromRawImg_conf7 \n",
    "#------------------------------------------------------------------------------\n",
    "\n",
    "annotations = model(rawimg) # input rawimage, and return 2d numpy.array [[x,y,w,h]]\n",
    "print(annotations)\n",
    "\n",
    "# #create a relative labels for the annotation\n",
    "labels= np.zeros(annotations.shape[0])\n",
    "print(labels)"
   ]
  },
  {
   "cell_type": "code",
   "execution_count": 14,
   "metadata": {},
   "outputs": [
    {
     "name": "stdout",
     "output_type": "stream",
     "text": [
      "13 rois have been annotated\n",
      "model: 0 ..\n",
      "     frame 0 ..\n",
      "     frame 20 ..\n",
      "     frame 40 ..\n",
      "     frame 60 ..\n",
      "cost time 38.30170488357544s\n",
      "model: 1 ..\n",
      "     frame 0 ..\n",
      "     frame 20 ..\n",
      "     frame 40 ..\n",
      "     frame 60 ..\n",
      "cost time 11.444520950317383s\n",
      "model: 2 ..\n",
      "     frame 0 ..\n",
      "     frame 20 ..\n",
      "     frame 40 ..\n",
      "     frame 60 ..\n",
      "cost time 11.411432027816772s\n",
      "model: 3 ..\n",
      "     frame 0 ..\n",
      "     frame 20 ..\n",
      "     frame 40 ..\n",
      "     frame 60 ..\n",
      "cost time 11.326765060424805s\n",
      "[(0, <function VGGface.detect_roi_fromRawImg at 0x122f8d2f0>, 38.30170488357544, 0.7015493781053777, 0.9388532664470891), (1, <function FaceDetector.detect_cv2dnn_fromRawImg at 0x14b6b0400>, 11.444520950317383, 0.8180571359517083, 0.9424905839759988), (2, <function FaceDetector.detect_cv2dnn_fromRawImg_conf7 at 0x14b6b02f0>, 11.411432027816772, 0.7432847344325973, 0.9702483676398528), (3, <function FaceDetector.detect_cv2dnn_fromRawImg_conf3 at 0x14b6b0378>, 11.326765060424805, 0.8534080820587602, 0.9264102398746945)]\n"
     ]
    }
   ],
   "source": [
    "\n",
    "\n",
    "#------------------------------------------------------------------------------\n",
    "# annotate face boundingbox and save\n",
    "ROI=fr(rawimg, annotations=annotations, labels=labels , saveto_directory=saveto )\n",
    "ROI.createROIs(crop=0, \n",
    "               save=1,\n",
    "               boundingbox_color=(255,255,0))\n",
    "#------------------------------------------------------------------------------\n",
    "# #evaluation \n",
    "video='../data/5695231002474224804_veg301.wmv'\n",
    "annotation_txt= '../data/5695231002474224804_veg301_gt.txt'\n",
    "\n",
    "vd= Video2Frame(video, saveframe=0, savedir= '../data/model_evaluation2/eva')\n",
    "vdE= videoDetectorEvaluation([VGGface.detect_roi_fromRawImg, \n",
    "                              FaceDetector.detect_cv2dnn_fromRawImg,\n",
    "                              FaceDetector.detect_cv2dnn_fromRawImg_conf7,\n",
    "                              FaceDetector.detect_cv2dnn_fromRawImg_conf3\n",
    "                              ], video,annotation_txt,\n",
    "                             save= 1, savedir= vd.savedir)\n",
    "\n",
    "print(vdE.eva)"
   ]
  },
  {
   "cell_type": "code",
   "execution_count": 15,
   "metadata": {},
   "outputs": [],
   "source": [
    "import pandas as pd"
   ]
  },
  {
   "cell_type": "code",
   "execution_count": 16,
   "metadata": {},
   "outputs": [],
   "source": [
    "eva= pd.DataFrame(vdE.eva, columns=['idx', 'model','timecost', 'recall','precision'])"
   ]
  },
  {
   "cell_type": "code",
   "execution_count": 17,
   "metadata": {},
   "outputs": [],
   "source": [
    "\n",
    "import matplotlib.pyplot as plt\n",
    "\n",
    "%config InlineBackend.figure_format = 'retina'\n",
    "\n",
    "def bar_graph( ds, plotname='Time consumed per frame', colors='salmon'):\n",
    "    my_colrs= colors\n",
    "    if len(colors)==1 : my_colrs = colors* (len(ds))\n",
    "    index = np.arange( len(ds))\n",
    "    plt.bar(index, ds['timecost']/vdE.vf.frame_num ,width=1/2, color= my_colrs)\n",
    "#     plt.bar(index, ds['recall'], color= 'green')\n",
    "    plt.xlabel('models', fontsize=10)\n",
    "    plt.ylabel('time/s/frame', fontsize=10)\n",
    "    plt.xticks(index, ds['idx'].astype(int), fontsize=10, rotation=0,ha=\"right\")\n",
    "#     plt.ylim(0 , 0.3)#  \n",
    "    plt.title(plotname+'\\n')\n",
    "    plt.show()\n",
    "\n",
    "def bar_group(ds, plotname='Face detection model evaluation'):\n",
    "    '''\n",
    "    plot a grouped bar chart\n",
    "    '''\n",
    "    # set width of bar\n",
    "    barWidth = 1/3   # if group of n, then the barWidth = 1/(n+1)\n",
    "\n",
    "    # set height of bar\n",
    "    bars1 = ds['recall']\n",
    "    bars2 = ds['precision']\n",
    "\n",
    "    # Set position of bar on X axis\n",
    "    r1 = np.arange(len(ds))\n",
    "    r2 = [x + barWidth for x in r1]\n",
    "\n",
    "    # Make the plot\n",
    "    plt.bar(r1, bars1, color='salmon', width=barWidth, edgecolor='white', label='recall')\n",
    "    plt.bar(r2, bars2, color='lightseagreen', width=barWidth, edgecolor='white', label='precision')\n",
    "\n",
    "    # Add xticks on the middle of the group bars\n",
    "    plt.xlabel('model', fontsize=10)\n",
    "    plt.ylabel('', fontsize=10)\n",
    "    plt.xticks(ticks= [r + (0.5-barWidth) for r in range(len(bars1))], labels=ds['idx'],fontsize=10, rotation=0,ha=\"right\")\n",
    "    # Create legend & Show graphic\n",
    "    plt.legend(bbox_to_anchor=(1, 1))\n",
    "    plt.title(plotname+'\\n')\n",
    "    plt.show()"
   ]
  },
  {
   "cell_type": "code",
   "execution_count": 18,
   "metadata": {},
   "outputs": [
    {
     "data": {
      "image/png": "[encoded data removed]",
      "text/plain": [
       "<Figure size 432x288 with 1 Axes>"
      ]
     },
     "metadata": {
      "image/png": {
       "height": 291,
       "width": 385
      },
      "needs_background": "light"
     },
     "output_type": "display_data"
    },
    {
     "data": {
      "image/png": "[encoded data removed]",
      "text/plain": [
       "<Figure size 432x288 with 1 Axes>"
      ]
     },
     "metadata": {
      "image/png": {
       "height": 291,
       "width": 458
      },
      "needs_background": "light"
     },
     "output_type": "display_data"
    },
    {
     "data": {
      "text/html": [
       "<div>\n",
       "<style scoped>\n",
       "    .dataframe tbody tr th:only-of-type {\n",
       "        vertical-align: middle;\n",
       "    }\n",
       "\n",
       "    .dataframe tbody tr th {\n",
       "        vertical-align: top;\n",
       "    }\n",
       "\n",
       "    .dataframe thead th {\n",
       "        text-align: right;\n",
       "    }\n",
       "</style>\n",
       "<table border=\"1\" class=\"dataframe\">\n",
       "  <thead>\n",
       "    <tr style=\"text-align: right;\">\n",
       "      <th></th>\n",
       "      <th>idx</th>\n",
       "      <th>model</th>\n",
       "      <th>timecost</th>\n",
       "      <th>recall</th>\n",
       "      <th>precision</th>\n",
       "    </tr>\n",
       "  </thead>\n",
       "  <tbody>\n",
       "    <tr>\n",
       "      <th>3</th>\n",
       "      <td>3</td>\n",
       "      <td>&lt;function FaceDetector.detect_cv2dnn_fromRawIm...</td>\n",
       "      <td>11.326765</td>\n",
       "      <td>0.853408</td>\n",
       "      <td>0.926410</td>\n",
       "    </tr>\n",
       "    <tr>\n",
       "      <th>1</th>\n",
       "      <td>1</td>\n",
       "      <td>&lt;function FaceDetector.detect_cv2dnn_fromRawIm...</td>\n",
       "      <td>11.444521</td>\n",
       "      <td>0.818057</td>\n",
       "      <td>0.942491</td>\n",
       "    </tr>\n",
       "    <tr>\n",
       "      <th>2</th>\n",
       "      <td>2</td>\n",
       "      <td>&lt;function FaceDetector.detect_cv2dnn_fromRawIm...</td>\n",
       "      <td>11.411432</td>\n",
       "      <td>0.743285</td>\n",
       "      <td>0.970248</td>\n",
       "    </tr>\n",
       "    <tr>\n",
       "      <th>0</th>\n",
       "      <td>0</td>\n",
       "      <td>&lt;function VGGface.detect_roi_fromRawImg at 0x1...</td>\n",
       "      <td>38.301705</td>\n",
       "      <td>0.701549</td>\n",
       "      <td>0.938853</td>\n",
       "    </tr>\n",
       "  </tbody>\n",
       "</table>\n",
       "</div>"
      ],
      "text/plain": [
       "   idx                                              model   timecost  \\\n",
       "3    3  <function FaceDetector.detect_cv2dnn_fromRawIm...  11.326765   \n",
       "1    1  <function FaceDetector.detect_cv2dnn_fromRawIm...  11.444521   \n",
       "2    2  <function FaceDetector.detect_cv2dnn_fromRawIm...  11.411432   \n",
       "0    0  <function VGGface.detect_roi_fromRawImg at 0x1...  38.301705   \n",
       "\n",
       "     recall  precision  \n",
       "3  0.853408   0.926410  \n",
       "1  0.818057   0.942491  \n",
       "2  0.743285   0.970248  \n",
       "0  0.701549   0.938853  "
      ]
     },
     "execution_count": 18,
     "metadata": {},
     "output_type": "execute_result"
    }
   ],
   "source": [
    "\n",
    "\n",
    "ds= eva.sort_values(['recall', 'precision'], ascending=[False, True])\n",
    "bar_graph(ds, colors= ['lightsalmon'])\n",
    "bar_group(ds) \n",
    "ds"
   ]
  },
  {
   "cell_type": "markdown",
   "metadata": {},
   "source": [
    "### Evaluation:\n",
    "\n",
    "Before we start, a bit explanation about the recall and precision metrics. We all familiar with those two in the classification model evaluation. Likewise, we use \n",
    "- __recall__ to represent the rate that how many ground truth(manual annotation) head/faces are detected, \n",
    "- __precision__ to indicate how accurate that detected faces/heads are mannual annotated (=how much area of the detected faces/heads are included in the groundtruth bondingbox).\n",
    "\n",
    "As shown in the above charts,\n",
    "\n",
    "- Firstly, amongst the models we have, the VGG models(model0) is the most inefficient with 0.6 seconds per frame, compared to a average less than 0.2seconds per frame. \n",
    "- Secondly, Regarding the time cost, there is a trade off between recall and precision: the better the recall, the worse the precision. \n",
    "\n",
    "However, I think the recall should be preoritised given our ground truth are correct (99%+), because __when it is a false detected face, it wouldnot have a label, or definitely \"non-active\". it also would not affect too much to our model training. On the contrary, if we miss a acctually active speaker, then it can make a big difference to the training__. So, given the precision is considerable level( maybe >=90%), choose the highest recall model. \n",
    "\n",
    "As a conclusion, amongst the models, the best model is model3. \n",
    "\n",
    "\n",
    "\n"
   ]
  },
  {
   "cell_type": "code",
   "execution_count": null,
   "metadata": {},
   "outputs": [],
   "source": []
  }
 ],
 "metadata": {
  "kernelspec": {
   "display_name": "Python 3",
   "language": "python",
   "name": "python3"
  },
  "language_info": {
   "codemirror_mode": {
    "name": "ipython",
    "version": 3
   },
   "file_extension": ".py",
   "mimetype": "text/x-python",
   "name": "python",
   "nbconvert_exporter": "python",
   "pygments_lexer": "ipython3",
   "version": "3.7.3"
  }
 },
 "nbformat": 4,
 "nbformat_minor": 2
}
